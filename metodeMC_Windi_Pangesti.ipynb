{
  "nbformat": 4,
  "nbformat_minor": 0,
  "metadata": {
    "colab": {
      "provenance": []
    },
    "kernelspec": {
      "name": "python3",
      "display_name": "Python 3"
    },
    "language_info": {
      "name": "python"
    }
  },
  "cells": [
    {
      "cell_type": "markdown",
      "metadata": {
        "id": "_YKnBR0Z6XGf"
      },
      "source": [
        "# **Tugas 1 : Contoh penerapan metode Monte Carlo**"
      ]
    },
    {
      "cell_type": "code",
      "metadata": {
        "id": "oHH9hiY76mQO"
      },
      "source": [
        "import pandas as pd\n",
        "import numpy as np\n",
        "import matplotlib.pyplot as plt\n",
        "import seaborn as sns"
      ],
      "execution_count": null,
      "outputs": []
    },
    {
      "cell_type": "code",
      "metadata": {
        "id": "CgI3Tko1614D"
      },
      "source": [
        "permintaan_ban = [0, 1, 2, 3, 4, 5]\n",
        "frekuensi = [10, 20, 40 ,60, 40, 30]\n",
        "probabilitas_kejadian=[ .05, .10, .20, .30, .20, .15]"
      ],
      "execution_count": null,
      "outputs": []
    },
    {
      "cell_type": "code",
      "metadata": {
        "colab": {
          "base_uri": "https://localhost:8080/"
        },
        "id": "9b_eQIzi7gGr",
        "outputId": "2bc5c5e3-0f5c-462d-9b99-f86c91ce4d62"
      },
      "source": [
        "# step 1 : menetapkan suatu distribusi probabilitas\n",
        "\n",
        "# step 2 : Membuat distribusi probabilitas kumulatif\n",
        "pk = probabilitas_kejadian[0]\n",
        "print(pk)\n",
        "\n",
        "for i in range(len(probabilitas_kejadian)-1):\n",
        "  pk = round((probabilitas_kejadian[i+1]+pk),2)\n",
        "  print(pk)"
      ],
      "execution_count": null,
      "outputs": [
        {
          "output_type": "stream",
          "text": [
            "0.05\n",
            "0.15\n",
            "0.35\n",
            "0.65\n",
            "0.85\n",
            "1.0\n"
          ],
          "name": "stdout"
        }
      ]
    },
    {
      "cell_type": "code",
      "metadata": {
        "id": "cuo00bAY8qY7"
      },
      "source": [
        "prob_kumulatif= [ .05, .15, .35, .65, .85 ,1]"
      ],
      "execution_count": null,
      "outputs": []
    },
    {
      "cell_type": "code",
      "metadata": {
        "colab": {
          "base_uri": "https://localhost:8080/",
          "height": 235
        },
        "id": "C-E09aqa_c9v",
        "outputId": "ccd42491-135a-429c-ad8d-e3a3f5b574c4"
      },
      "source": [
        "data={'Permintaan Ban': permintaan_ban,\n",
        "         'Frekuensi(hari)':frekuensi,\n",
        "         'Probabilitas kejadian':probabilitas_kejadian,\n",
        "         'Probabilitas kumulatif': prob_kumulatif}\n",
        "df= pd.DataFrame(data)\n",
        "df"
      ],
      "execution_count": null,
      "outputs": [
        {
          "output_type": "execute_result",
          "data": {
            "text/html": [
              "<div>\n",
              "<style scoped>\n",
              "    .dataframe tbody tr th:only-of-type {\n",
              "        vertical-align: middle;\n",
              "    }\n",
              "\n",
              "    .dataframe tbody tr th {\n",
              "        vertical-align: top;\n",
              "    }\n",
              "\n",
              "    .dataframe thead th {\n",
              "        text-align: right;\n",
              "    }\n",
              "</style>\n",
              "<table border=\"1\" class=\"dataframe\">\n",
              "  <thead>\n",
              "    <tr style=\"text-align: right;\">\n",
              "      <th></th>\n",
              "      <th>Permintaan Ban</th>\n",
              "      <th>Frekuensi(hari)</th>\n",
              "      <th>Probabilitas kejadian</th>\n",
              "      <th>Probabilitas kumulatif</th>\n",
              "    </tr>\n",
              "  </thead>\n",
              "  <tbody>\n",
              "    <tr>\n",
              "      <th>0</th>\n",
              "      <td>0</td>\n",
              "      <td>10</td>\n",
              "      <td>0.05</td>\n",
              "      <td>0.05</td>\n",
              "    </tr>\n",
              "    <tr>\n",
              "      <th>1</th>\n",
              "      <td>1</td>\n",
              "      <td>20</td>\n",
              "      <td>0.10</td>\n",
              "      <td>0.15</td>\n",
              "    </tr>\n",
              "    <tr>\n",
              "      <th>2</th>\n",
              "      <td>2</td>\n",
              "      <td>40</td>\n",
              "      <td>0.20</td>\n",
              "      <td>0.35</td>\n",
              "    </tr>\n",
              "    <tr>\n",
              "      <th>3</th>\n",
              "      <td>3</td>\n",
              "      <td>60</td>\n",
              "      <td>0.30</td>\n",
              "      <td>0.65</td>\n",
              "    </tr>\n",
              "    <tr>\n",
              "      <th>4</th>\n",
              "      <td>4</td>\n",
              "      <td>40</td>\n",
              "      <td>0.20</td>\n",
              "      <td>0.85</td>\n",
              "    </tr>\n",
              "    <tr>\n",
              "      <th>5</th>\n",
              "      <td>5</td>\n",
              "      <td>30</td>\n",
              "      <td>0.15</td>\n",
              "      <td>1.00</td>\n",
              "    </tr>\n",
              "  </tbody>\n",
              "</table>\n",
              "</div>"
            ],
            "text/plain": [
              "   Permintaan Ban  ...  Probabilitas kumulatif\n",
              "0               0  ...                    0.05\n",
              "1               1  ...                    0.15\n",
              "2               2  ...                    0.35\n",
              "3               3  ...                    0.65\n",
              "4               4  ...                    0.85\n",
              "5               5  ...                    1.00\n",
              "\n",
              "[6 rows x 4 columns]"
            ]
          },
          "metadata": {
            "tags": []
          },
          "execution_count": 46
        }
      ]
    },
    {
      "cell_type": "code",
      "metadata": {
        "colab": {
          "base_uri": "https://localhost:8080/",
          "height": 279
        },
        "id": "rZmq9sHvBsxv",
        "outputId": "6a8c096a-0656-4469-8099-d53f8c30724c"
      },
      "source": [
        "probabilitas_kejadian,probabilitas_kumulatif= data['Probabilitas kejadian'],data['Probabilitas kumulatif']\n",
        "plt.xlabel('permintaan ban')\n",
        "plt.ylabel('Probabilitas')\n",
        "plt.plot(probabilitas_kejadian)\n",
        "plt.plot(probabilitas_kumulatif)\n",
        "plt.legend(['probabilitas kejadian','probabilitas kumulatif'])\n",
        "plt.show()"
      ],
      "execution_count": null,
      "outputs": [
        {
          "output_type": "display_data",
          "data": {
            "image/png": "[encoded data removed]",
            "text/plain": [
              "<Figure size 432x288 with 1 Axes>"
            ]
          },
          "metadata": {
            "tags": [],
            "needs_background": "light"
          }
        }
      ]
    },
    {
      "cell_type": "code",
      "metadata": {
        "colab": {
          "base_uri": "https://localhost:8080/",
          "height": 235
        },
        "id": "mZ0YfMsXDdGm",
        "outputId": "ec950314-7604-4cb6-cec3-b545afa509a5"
      },
      "source": [
        "# Step 3 : menetapkan interval angka\n",
        "df['interval_bil.acak'] = ['0.01 - 0.05','0.06 - 0.15','0.16 - 0.35','0.36 - 0.65','0.66 - 0.85','0.86 - 1.00']\n",
        "\n",
        "del df['Frekuensi(hari)']\n",
        "df"
      ],
      "execution_count": null,
      "outputs": [
        {
          "output_type": "execute_result",
          "data": {
            "text/html": [
              "<div>\n",
              "<style scoped>\n",
              "    .dataframe tbody tr th:only-of-type {\n",
              "        vertical-align: middle;\n",
              "    }\n",
              "\n",
              "    .dataframe tbody tr th {\n",
              "        vertical-align: top;\n",
              "    }\n",
              "\n",
              "    .dataframe thead th {\n",
              "        text-align: right;\n",
              "    }\n",
              "</style>\n",
              "<table border=\"1\" class=\"dataframe\">\n",
              "  <thead>\n",
              "    <tr style=\"text-align: right;\">\n",
              "      <th></th>\n",
              "      <th>Permintaan Ban</th>\n",
              "      <th>Probabilitas kejadian</th>\n",
              "      <th>Probabilitas kumulatif</th>\n",
              "      <th>interval_bil.acak</th>\n",
              "    </tr>\n",
              "  </thead>\n",
              "  <tbody>\n",
              "    <tr>\n",
              "      <th>0</th>\n",
              "      <td>0</td>\n",
              "      <td>0.05</td>\n",
              "      <td>0.05</td>\n",
              "      <td>0.01 - 0.05</td>\n",
              "    </tr>\n",
              "    <tr>\n",
              "      <th>1</th>\n",
              "      <td>1</td>\n",
              "      <td>0.10</td>\n",
              "      <td>0.15</td>\n",
              "      <td>0.06 - 0.15</td>\n",
              "    </tr>\n",
              "    <tr>\n",
              "      <th>2</th>\n",
              "      <td>2</td>\n",
              "      <td>0.20</td>\n",
              "      <td>0.35</td>\n",
              "      <td>0.16 - 0.35</td>\n",
              "    </tr>\n",
              "    <tr>\n",
              "      <th>3</th>\n",
              "      <td>3</td>\n",
              "      <td>0.30</td>\n",
              "      <td>0.65</td>\n",
              "      <td>0.36 - 0.65</td>\n",
              "    </tr>\n",
              "    <tr>\n",
              "      <th>4</th>\n",
              "      <td>4</td>\n",
              "      <td>0.20</td>\n",
              "      <td>0.85</td>\n",
              "      <td>0.66 - 0.85</td>\n",
              "    </tr>\n",
              "    <tr>\n",
              "      <th>5</th>\n",
              "      <td>5</td>\n",
              "      <td>0.15</td>\n",
              "      <td>1.00</td>\n",
              "      <td>0.86 - 1.00</td>\n",
              "    </tr>\n",
              "  </tbody>\n",
              "</table>\n",
              "</div>"
            ],
            "text/plain": [
              "   Permintaan Ban  ...  interval_bil.acak\n",
              "0               0  ...        0.01 - 0.05\n",
              "1               1  ...        0.06 - 0.15\n",
              "2               2  ...        0.16 - 0.35\n",
              "3               3  ...        0.36 - 0.65\n",
              "4               4  ...        0.66 - 0.85\n",
              "5               5  ...        0.86 - 1.00\n",
              "\n",
              "[6 rows x 4 columns]"
            ]
          },
          "metadata": {
            "tags": []
          },
          "execution_count": 48
        }
      ]
    },
    {
      "cell_type": "code",
      "metadata": {
        "colab": {
          "base_uri": "https://localhost:8080/"
        },
        "id": "sgcP0m2ZGQ4O",
        "outputId": "ebfa6794-2e14-493c-b413-a5f21b53e35d"
      },
      "source": [
        "# Step 4 : membangkitkat bilangan-bilangan acak dan simulasi permintaan\n",
        "\n",
        "byk_hari = 200\n",
        "np.random.seed(100)\n",
        "bil_acak = np.random.normal(0.5,0.1,size=200)\n",
        "bil_acak[0:5]"
      ],
      "execution_count": null,
      "outputs": [
        {
          "output_type": "execute_result",
          "data": {
            "text/plain": [
              "array([0.32502345, 0.53426804, 0.61530358, 0.4747564 , 0.59813208])"
            ]
          },
          "metadata": {
            "tags": []
          },
          "execution_count": 49
        }
      ]
    },
    {
      "cell_type": "code",
      "metadata": {
        "id": "KqBf7bYKH1QB"
      },
      "source": [
        "def simulasi_permintaan(x):\n",
        "  \"\"\"Acuan  tingkat permitaan harian:\n",
        "  0.01-0.05 = 0\n",
        "  0.06-0.15  = 1\n",
        "  0.16-0.35 = 2\n",
        "  0.36-0.65 = 3\n",
        "  0.66-0.85 = 4\n",
        "  0.86-1.00 = 5\n",
        "  \"\"\"\n",
        "  if x<= .05:\n",
        "    return 0\n",
        "  if x<=.15:\n",
        "    return 1\n",
        "  if x<= .35:\n",
        "    return 2\n",
        "  if x<= .65:\n",
        "    return 3\n",
        "  if x<= .85:\n",
        "    return 4\n",
        "  else :\n",
        "    return 5"
      ],
      "execution_count": null,
      "outputs": []
    },
    {
      "cell_type": "code",
      "metadata": {
        "colab": {
          "base_uri": "https://localhost:8080/",
          "height": 390
        },
        "id": "lqWUNn4_JPAJ",
        "outputId": "a5aaef64-ab9d-406c-8800-580e99624532"
      },
      "source": [
        "df1 = pd.DataFrame(index=range(byk_hari), data={'Hari':list(range(1,201)),'Bil.Acak': bil_acak})\n",
        "df1['Permintaan harian yang disimulasikan']=df1['Bil.Acak'].apply(simulasi_permintaan)\n",
        "df1[0:11]"
      ],
      "execution_count": null,
      "outputs": [
        {
          "output_type": "execute_result",
          "data": {
            "text/html": [
              "<div>\n",
              "<style scoped>\n",
              "    .dataframe tbody tr th:only-of-type {\n",
              "        vertical-align: middle;\n",
              "    }\n",
              "\n",
              "    .dataframe tbody tr th {\n",
              "        vertical-align: top;\n",
              "    }\n",
              "\n",
              "    .dataframe thead th {\n",
              "        text-align: right;\n",
              "    }\n",
              "</style>\n",
              "<table border=\"1\" class=\"dataframe\">\n",
              "  <thead>\n",
              "    <tr style=\"text-align: right;\">\n",
              "      <th></th>\n",
              "      <th>Hari</th>\n",
              "      <th>Bil.Acak</th>\n",
              "      <th>Permintaan harian yang disimulasikan</th>\n",
              "    </tr>\n",
              "  </thead>\n",
              "  <tbody>\n",
              "    <tr>\n",
              "      <th>0</th>\n",
              "      <td>1</td>\n",
              "      <td>0.325023</td>\n",
              "      <td>2</td>\n",
              "    </tr>\n",
              "    <tr>\n",
              "      <th>1</th>\n",
              "      <td>2</td>\n",
              "      <td>0.534268</td>\n",
              "      <td>3</td>\n",
              "    </tr>\n",
              "    <tr>\n",
              "      <th>2</th>\n",
              "      <td>3</td>\n",
              "      <td>0.615304</td>\n",
              "      <td>3</td>\n",
              "    </tr>\n",
              "    <tr>\n",
              "      <th>3</th>\n",
              "      <td>4</td>\n",
              "      <td>0.474756</td>\n",
              "      <td>3</td>\n",
              "    </tr>\n",
              "    <tr>\n",
              "      <th>4</th>\n",
              "      <td>5</td>\n",
              "      <td>0.598132</td>\n",
              "      <td>3</td>\n",
              "    </tr>\n",
              "    <tr>\n",
              "      <th>5</th>\n",
              "      <td>6</td>\n",
              "      <td>0.551422</td>\n",
              "      <td>3</td>\n",
              "    </tr>\n",
              "    <tr>\n",
              "      <th>6</th>\n",
              "      <td>7</td>\n",
              "      <td>0.522118</td>\n",
              "      <td>3</td>\n",
              "    </tr>\n",
              "    <tr>\n",
              "      <th>7</th>\n",
              "      <td>8</td>\n",
              "      <td>0.392996</td>\n",
              "      <td>3</td>\n",
              "    </tr>\n",
              "    <tr>\n",
              "      <th>8</th>\n",
              "      <td>9</td>\n",
              "      <td>0.481050</td>\n",
              "      <td>3</td>\n",
              "    </tr>\n",
              "    <tr>\n",
              "      <th>9</th>\n",
              "      <td>10</td>\n",
              "      <td>0.525500</td>\n",
              "      <td>3</td>\n",
              "    </tr>\n",
              "    <tr>\n",
              "      <th>10</th>\n",
              "      <td>11</td>\n",
              "      <td>0.454197</td>\n",
              "      <td>3</td>\n",
              "    </tr>\n",
              "  </tbody>\n",
              "</table>\n",
              "</div>"
            ],
            "text/plain": [
              "    Hari  Bil.Acak  Permintaan harian yang disimulasikan\n",
              "0      1  0.325023                                     2\n",
              "1      2  0.534268                                     3\n",
              "2      3  0.615304                                     3\n",
              "3      4  0.474756                                     3\n",
              "4      5  0.598132                                     3\n",
              "5      6  0.551422                                     3\n",
              "6      7  0.522118                                     3\n",
              "7      8  0.392996                                     3\n",
              "8      9  0.481050                                     3\n",
              "9     10  0.525500                                     3\n",
              "10    11  0.454197                                     3"
            ]
          },
          "metadata": {
            "tags": []
          },
          "execution_count": 51
        }
      ]
    },
    {
      "cell_type": "code",
      "metadata": {
        "colab": {
          "base_uri": "https://localhost:8080/"
        },
        "id": "ho_Vt06rKVtX",
        "outputId": "00a5a62e-7e0c-4e7b-c051-c8fdf5555799"
      },
      "source": [
        "# rata-rata permintaan dalam waktu 200 hari\n",
        "df1['Permintaan harian yang disimulasikan'].mean()"
      ],
      "execution_count": null,
      "outputs": [
        {
          "output_type": "execute_result",
          "data": {
            "text/plain": [
              "2.99"
            ]
          },
          "metadata": {
            "tags": []
          },
          "execution_count": 52
        }
      ]
    },
    {
      "cell_type": "code",
      "metadata": {
        "colab": {
          "base_uri": "https://localhost:8080/"
        },
        "id": "tRaDmZLSK3Q0",
        "outputId": "f2943bc9-85b0-403f-ee84-810a8eb98ff7"
      },
      "source": [
        "# rata-rata permintaan harian\n",
        "zip(permintaan_ban,probabilitas_kejadian)\n",
        "sum(x*y for x, y in zip(permintaan_ban,probabilitas_kejadian))"
      ],
      "execution_count": null,
      "outputs": [
        {
          "output_type": "execute_result",
          "data": {
            "text/plain": [
              "2.95"
            ]
          },
          "metadata": {
            "tags": []
          },
          "execution_count": 53
        }
      ]
    },
    {
      "cell_type": "markdown",
      "metadata": {
        "id": "N___lAYVL1Bc"
      },
      "source": [
        "**kesimpulan :**\n",
        "\n",
        "- rata- rata permintaan sebesar 2,99 atau 3 ban dalam waktu simulasi 200 hari\n",
        "- rata- rata permintaan harian diperkiraan sebesar 2,95\n"
      ]
    },
    {
      "cell_type": "markdown",
      "metadata": {
        "id": "Z9L9DM83uJl-"
      },
      "source": [
        "# **Tugas pertemuan 11 : Simulasi suatu lintasan brown**"
      ]
    },
    {
      "cell_type": "markdown",
      "metadata": {
        "id": "yPlhkvhqBLn3"
      },
      "source": [
        "![Screenshot (481).png](data:image/png;base64,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)"
      ]
    },
    {
      "cell_type": "code",
      "metadata": {
        "id": "UJ_rLJ6VuPMt"
      },
      "source": [
        "# import library\n",
        "import pandas as pd\n",
        "import numpy as np\n",
        "import matplotlib.pyplot as plt\n"
      ],
      "execution_count": null,
      "outputs": []
    },
    {
      "cell_type": "code",
      "metadata": {
        "id": "AAeC9fr9yXEy"
      },
      "source": [
        "np.random.seed(100)"
      ],
      "execution_count": null,
      "outputs": []
    },
    {
      "cell_type": "code",
      "metadata": {
        "id": "7xlmYC2DzR3H"
      },
      "source": [
        "# menetapkan tahun,periode waktu dan kebar waktu\n",
        "T = 1\n",
        "M = 500\n",
        "dt =T/M"
      ],
      "execution_count": null,
      "outputs": []
    },
    {
      "cell_type": "code",
      "metadata": {
        "id": "5OYZVYLrzb7L"
      },
      "source": [
        "w = np.ones(M)\n",
        "yi = np.random.standard_normal()\n",
        "w[0] = np.sqrt(dt)*yi\n"
      ],
      "execution_count": null,
      "outputs": []
    },
    {
      "cell_type": "code",
      "metadata": {
        "id": "TzlKnEMVCN5H"
      },
      "source": [
        "u = np.ones(M)\n",
        "u[0] = np.exp(0 + 0.5*w[0])"
      ],
      "execution_count": null,
      "outputs": []
    },
    {
      "cell_type": "code",
      "metadata": {
        "id": "g2SF6R4eCeC_"
      },
      "source": [
        "for i in range(1,M):\n",
        "  # pengambilan sampel dari distribusi normal baku\n",
        "  yi = np.random.standard_normal()\n",
        "  dwi = yi*np.sqrt(dt)\n",
        "\n",
        "  # weiner process\n",
        "  w[i] = w[i-1] + dwi\n",
        "  u[i] = np.exp((i*dt) + 0.5*w[i])\n"
      ],
      "execution_count": null,
      "outputs": []
    },
    {
      "cell_type": "code",
      "metadata": {
        "id": "hfFju0tMDDIV",
        "colab": {
          "base_uri": "https://localhost:8080/",
          "height": 267
        },
        "outputId": "f5a43710-e53d-4ee5-b63f-e12ef73e5a34"
      },
      "source": [
        "plt.plot(u)\n",
        "plt.show()"
      ],
      "execution_count": null,
      "outputs": [
        {
          "output_type": "display_data",
          "data": {
            "image/png": "[encoded data removed]",
            "text/plain": [
              "<Figure size 432x288 with 1 Axes>"
            ]
          },
          "metadata": {
            "tags": [],
            "needs_background": "light"
          }
        }
      ]
    },
    {
      "cell_type": "markdown",
      "metadata": {
        "id": "mCnzwy5wDQED"
      },
      "source": [
        "# **Tugas pertemuan 10**"
      ]
    },
    {
      "cell_type": "markdown",
      "metadata": {
        "id": "p-6o-7TzLJpc"
      },
      "source": [
        "![Screenshot (484).png](data:image/png;base64,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)"
      ]
    },
    {
      "cell_type": "code",
      "metadata": {
        "id": "s0f2JLJ0DYqs"
      },
      "source": [
        "import pandas as pd\n",
        "import numpy as np\n",
        "import matplotlib.pyplot as plt"
      ],
      "execution_count": null,
      "outputs": []
    },
    {
      "cell_type": "code",
      "metadata": {
        "id": "4_eUejOVEBn3"
      },
      "source": [
        "avg = 1\n",
        "byk_reps = 1000\n",
        "byk_simulasi = 10"
      ],
      "execution_count": null,
      "outputs": []
    },
    {
      "cell_type": "code",
      "metadata": {
        "colab": {
          "base_uri": "https://localhost:8080/"
        },
        "id": "vtopcmsyFPdc",
        "outputId": "d36d00e1-2d53-452f-b91a-f2b0f3a83130"
      },
      "source": [
        "# membangkitkan 500 bilangan acak dengan distribusi t\n",
        "np.random.seed(100)\n",
        "pst_target = np.random.standard_t(avg , size= byk_reps).round(2)\n",
        "pst_target[0:10]"
      ],
      "execution_count": null,
      "outputs": [
        {
          "output_type": "execute_result",
          "data": {
            "text/plain": [
              "array([ -2.91,  51.35,   5.08,   0.29,  -0.32,   0.71,  -2.14, 128.  ,\n",
              "        10.89,  29.88])"
            ]
          },
          "metadata": {
            "tags": []
          },
          "execution_count": 86
        }
      ]
    },
    {
      "cell_type": "code",
      "metadata": {
        "colab": {
          "base_uri": "https://localhost:8080/"
        },
        "id": "RNEBG0bbF07q",
        "outputId": "7d6745ff-90e4-496e-f6a1-70984e55b626"
      },
      "source": [
        "penjualan_target_nilai = [75000, 100000, 200000, 300000, 400000, 500000]\n",
        "penjualan_target_prob = [ .3, .3, .2, .1, .05, .05]\n",
        "penjualan_target = np.random.choice(penjualan_target_nilai, byk_reps, p = penjualan_target_prob)\n",
        "penjualan_target[0:10]"
      ],
      "execution_count": null,
      "outputs": [
        {
          "output_type": "execute_result",
          "data": {
            "text/plain": [
              "array([ 75000, 100000, 100000, 200000,  75000, 200000,  75000,  75000,\n",
              "       200000,  75000])"
            ]
          },
          "metadata": {
            "tags": []
          },
          "execution_count": 87
        }
      ]
    },
    {
      "cell_type": "code",
      "metadata": {
        "id": "Gn54hKohGhbL"
      },
      "source": [
        "# membangun dataframe\n",
        "df = pd.DataFrame ( index = range( byk_reps ),data ={ 'Pst_Target': pst_target ,\n",
        "                                                      'Penjualan_Target': penjualan_target })\n",
        "df ['Penjualan'] = df ['Pst_Target'] * df ['Penjualan_Target']"
      ],
      "execution_count": null,
      "outputs": []
    },
    {
      "cell_type": "code",
      "metadata": {
        "colab": {
          "base_uri": "https://localhost:8080/",
          "height": 359
        },
        "id": "Ef8vyHrhHFVm",
        "outputId": "099d4063-c8b6-4d3c-c287-80ec3a0113b7"
      },
      "source": [
        "df[0:10]"
      ],
      "execution_count": null,
      "outputs": [
        {
          "output_type": "execute_result",
          "data": {
            "text/html": [
              "<div>\n",
              "<style scoped>\n",
              "    .dataframe tbody tr th:only-of-type {\n",
              "        vertical-align: middle;\n",
              "    }\n",
              "\n",
              "    .dataframe tbody tr th {\n",
              "        vertical-align: top;\n",
              "    }\n",
              "\n",
              "    .dataframe thead th {\n",
              "        text-align: right;\n",
              "    }\n",
              "</style>\n",
              "<table border=\"1\" class=\"dataframe\">\n",
              "  <thead>\n",
              "    <tr style=\"text-align: right;\">\n",
              "      <th></th>\n",
              "      <th>Pst_Target</th>\n",
              "      <th>Penjualan_Target</th>\n",
              "      <th>Penjualan</th>\n",
              "    </tr>\n",
              "  </thead>\n",
              "  <tbody>\n",
              "    <tr>\n",
              "      <th>0</th>\n",
              "      <td>-2.91</td>\n",
              "      <td>75000</td>\n",
              "      <td>-218250.0</td>\n",
              "    </tr>\n",
              "    <tr>\n",
              "      <th>1</th>\n",
              "      <td>51.35</td>\n",
              "      <td>100000</td>\n",
              "      <td>5135000.0</td>\n",
              "    </tr>\n",
              "    <tr>\n",
              "      <th>2</th>\n",
              "      <td>5.08</td>\n",
              "      <td>100000</td>\n",
              "      <td>508000.0</td>\n",
              "    </tr>\n",
              "    <tr>\n",
              "      <th>3</th>\n",
              "      <td>0.29</td>\n",
              "      <td>200000</td>\n",
              "      <td>58000.0</td>\n",
              "    </tr>\n",
              "    <tr>\n",
              "      <th>4</th>\n",
              "      <td>-0.32</td>\n",
              "      <td>75000</td>\n",
              "      <td>-24000.0</td>\n",
              "    </tr>\n",
              "    <tr>\n",
              "      <th>5</th>\n",
              "      <td>0.71</td>\n",
              "      <td>200000</td>\n",
              "      <td>142000.0</td>\n",
              "    </tr>\n",
              "    <tr>\n",
              "      <th>6</th>\n",
              "      <td>-2.14</td>\n",
              "      <td>75000</td>\n",
              "      <td>-160500.0</td>\n",
              "    </tr>\n",
              "    <tr>\n",
              "      <th>7</th>\n",
              "      <td>128.00</td>\n",
              "      <td>75000</td>\n",
              "      <td>9600000.0</td>\n",
              "    </tr>\n",
              "    <tr>\n",
              "      <th>8</th>\n",
              "      <td>10.89</td>\n",
              "      <td>200000</td>\n",
              "      <td>2178000.0</td>\n",
              "    </tr>\n",
              "    <tr>\n",
              "      <th>9</th>\n",
              "      <td>29.88</td>\n",
              "      <td>75000</td>\n",
              "      <td>2241000.0</td>\n",
              "    </tr>\n",
              "  </tbody>\n",
              "</table>\n",
              "</div>"
            ],
            "text/plain": [
              "   Pst_Target  Penjualan_Target  Penjualan\n",
              "0       -2.91             75000  -218250.0\n",
              "1       51.35            100000  5135000.0\n",
              "2        5.08            100000   508000.0\n",
              "3        0.29            200000    58000.0\n",
              "4       -0.32             75000   -24000.0\n",
              "5        0.71            200000   142000.0\n",
              "6       -2.14             75000  -160500.0\n",
              "7      128.00             75000  9600000.0\n",
              "8       10.89            200000  2178000.0\n",
              "9       29.88             75000  2241000.0"
            ]
          },
          "metadata": {
            "tags": []
          },
          "execution_count": 89
        }
      ]
    },
    {
      "cell_type": "code",
      "metadata": {
        "id": "SZpFweELHIaQ"
      },
      "source": [
        "def hit_tingkat_komisi (x ):\n",
        "  \"\"\" Acuan tingkat komisi :\n",
        "      0 -90% = 2%\n",
        "      91 -99% = 3%\n",
        "      >= 100 = 4%\n",
        "  \"\"\"\n",
        "  if x <= .90:\n",
        "    return .02\n",
        "  if x <= .99:\n",
        "    return .03\n",
        "  else :\n",
        "    return .04"
      ],
      "execution_count": null,
      "outputs": []
    },
    {
      "cell_type": "code",
      "metadata": {
        "colab": {
          "base_uri": "https://localhost:8080/",
          "height": 359
        },
        "id": "foeM9qeHHaZr",
        "outputId": "01cb4d53-54e3-4bee-c022-a97b32c88a10"
      },
      "source": [
        "df ['Tingkat_Komisi'] = df ['Pst_Target']. apply ( hit_tingkat_komisi )\n",
        "df ['Besaran_Komisi'] = df ['Tingkat_Komisi'] * df ['Penjualan']\n",
        "df[0:10]"
      ],
      "execution_count": null,
      "outputs": [
        {
          "output_type": "execute_result",
          "data": {
            "text/html": [
              "<div>\n",
              "<style scoped>\n",
              "    .dataframe tbody tr th:only-of-type {\n",
              "        vertical-align: middle;\n",
              "    }\n",
              "\n",
              "    .dataframe tbody tr th {\n",
              "        vertical-align: top;\n",
              "    }\n",
              "\n",
              "    .dataframe thead th {\n",
              "        text-align: right;\n",
              "    }\n",
              "</style>\n",
              "<table border=\"1\" class=\"dataframe\">\n",
              "  <thead>\n",
              "    <tr style=\"text-align: right;\">\n",
              "      <th></th>\n",
              "      <th>Pst_Target</th>\n",
              "      <th>Penjualan_Target</th>\n",
              "      <th>Penjualan</th>\n",
              "      <th>Tingkat_Komisi</th>\n",
              "      <th>Besaran_Komisi</th>\n",
              "    </tr>\n",
              "  </thead>\n",
              "  <tbody>\n",
              "    <tr>\n",
              "      <th>0</th>\n",
              "      <td>-2.91</td>\n",
              "      <td>75000</td>\n",
              "      <td>-218250.0</td>\n",
              "      <td>0.02</td>\n",
              "      <td>-4365.0</td>\n",
              "    </tr>\n",
              "    <tr>\n",
              "      <th>1</th>\n",
              "      <td>51.35</td>\n",
              "      <td>100000</td>\n",
              "      <td>5135000.0</td>\n",
              "      <td>0.04</td>\n",
              "      <td>205400.0</td>\n",
              "    </tr>\n",
              "    <tr>\n",
              "      <th>2</th>\n",
              "      <td>5.08</td>\n",
              "      <td>100000</td>\n",
              "      <td>508000.0</td>\n",
              "      <td>0.04</td>\n",
              "      <td>20320.0</td>\n",
              "    </tr>\n",
              "    <tr>\n",
              "      <th>3</th>\n",
              "      <td>0.29</td>\n",
              "      <td>200000</td>\n",
              "      <td>58000.0</td>\n",
              "      <td>0.02</td>\n",
              "      <td>1160.0</td>\n",
              "    </tr>\n",
              "    <tr>\n",
              "      <th>4</th>\n",
              "      <td>-0.32</td>\n",
              "      <td>75000</td>\n",
              "      <td>-24000.0</td>\n",
              "      <td>0.02</td>\n",
              "      <td>-480.0</td>\n",
              "    </tr>\n",
              "    <tr>\n",
              "      <th>5</th>\n",
              "      <td>0.71</td>\n",
              "      <td>200000</td>\n",
              "      <td>142000.0</td>\n",
              "      <td>0.02</td>\n",
              "      <td>2840.0</td>\n",
              "    </tr>\n",
              "    <tr>\n",
              "      <th>6</th>\n",
              "      <td>-2.14</td>\n",
              "      <td>75000</td>\n",
              "      <td>-160500.0</td>\n",
              "      <td>0.02</td>\n",
              "      <td>-3210.0</td>\n",
              "    </tr>\n",
              "    <tr>\n",
              "      <th>7</th>\n",
              "      <td>128.00</td>\n",
              "      <td>75000</td>\n",
              "      <td>9600000.0</td>\n",
              "      <td>0.04</td>\n",
              "      <td>384000.0</td>\n",
              "    </tr>\n",
              "    <tr>\n",
              "      <th>8</th>\n",
              "      <td>10.89</td>\n",
              "      <td>200000</td>\n",
              "      <td>2178000.0</td>\n",
              "      <td>0.04</td>\n",
              "      <td>87120.0</td>\n",
              "    </tr>\n",
              "    <tr>\n",
              "      <th>9</th>\n",
              "      <td>29.88</td>\n",
              "      <td>75000</td>\n",
              "      <td>2241000.0</td>\n",
              "      <td>0.04</td>\n",
              "      <td>89640.0</td>\n",
              "    </tr>\n",
              "  </tbody>\n",
              "</table>\n",
              "</div>"
            ],
            "text/plain": [
              "   Pst_Target  Penjualan_Target  Penjualan  Tingkat_Komisi  Besaran_Komisi\n",
              "0       -2.91             75000  -218250.0            0.02         -4365.0\n",
              "1       51.35            100000  5135000.0            0.04        205400.0\n",
              "2        5.08            100000   508000.0            0.04         20320.0\n",
              "3        0.29            200000    58000.0            0.02          1160.0\n",
              "4       -0.32             75000   -24000.0            0.02          -480.0\n",
              "5        0.71            200000   142000.0            0.02          2840.0\n",
              "6       -2.14             75000  -160500.0            0.02         -3210.0\n",
              "7      128.00             75000  9600000.0            0.04        384000.0\n",
              "8       10.89            200000  2178000.0            0.04         87120.0\n",
              "9       29.88             75000  2241000.0            0.04         89640.0"
            ]
          },
          "metadata": {
            "tags": []
          },
          "execution_count": 91
        }
      ]
    },
    {
      "cell_type": "code",
      "metadata": {
        "colab": {
          "base_uri": "https://localhost:8080/",
          "height": 297
        },
        "id": "KLdfanMMMC82",
        "outputId": "e0104fe2-8324-4588-b8d0-76ee6c13a847"
      },
      "source": [
        "df.describe()"
      ],
      "execution_count": null,
      "outputs": [
        {
          "output_type": "execute_result",
          "data": {
            "text/html": [
              "<div>\n",
              "<style scoped>\n",
              "    .dataframe tbody tr th:only-of-type {\n",
              "        vertical-align: middle;\n",
              "    }\n",
              "\n",
              "    .dataframe tbody tr th {\n",
              "        vertical-align: top;\n",
              "    }\n",
              "\n",
              "    .dataframe thead th {\n",
              "        text-align: right;\n",
              "    }\n",
              "</style>\n",
              "<table border=\"1\" class=\"dataframe\">\n",
              "  <thead>\n",
              "    <tr style=\"text-align: right;\">\n",
              "      <th></th>\n",
              "      <th>Pst_Target</th>\n",
              "      <th>Penjualan_Target</th>\n",
              "      <th>Penjualan</th>\n",
              "      <th>Tingkat_Komisi</th>\n",
              "      <th>Besaran_Komisi</th>\n",
              "    </tr>\n",
              "  </thead>\n",
              "  <tbody>\n",
              "    <tr>\n",
              "      <th>count</th>\n",
              "      <td>1000.000000</td>\n",
              "      <td>1000.000000</td>\n",
              "      <td>1.000000e+03</td>\n",
              "      <td>1000.000000</td>\n",
              "      <td>1.000000e+03</td>\n",
              "    </tr>\n",
              "    <tr>\n",
              "      <th>mean</th>\n",
              "      <td>0.789200</td>\n",
              "      <td>168900.000000</td>\n",
              "      <td>3.274448e+05</td>\n",
              "      <td>0.025230</td>\n",
              "      <td>1.870579e+04</td>\n",
              "    </tr>\n",
              "    <tr>\n",
              "      <th>std</th>\n",
              "      <td>36.569674</td>\n",
              "      <td>118804.058872</td>\n",
              "      <td>6.249262e+06</td>\n",
              "      <td>0.008662</td>\n",
              "      <td>2.331504e+05</td>\n",
              "    </tr>\n",
              "    <tr>\n",
              "      <th>min</th>\n",
              "      <td>-765.200000</td>\n",
              "      <td>75000.000000</td>\n",
              "      <td>-7.652000e+07</td>\n",
              "      <td>0.020000</td>\n",
              "      <td>-1.530400e+06</td>\n",
              "    </tr>\n",
              "    <tr>\n",
              "      <th>25%</th>\n",
              "      <td>-1.060000</td>\n",
              "      <td>75000.000000</td>\n",
              "      <td>-1.472500e+05</td>\n",
              "      <td>0.020000</td>\n",
              "      <td>-2.945000e+03</td>\n",
              "    </tr>\n",
              "    <tr>\n",
              "      <th>50%</th>\n",
              "      <td>0.055000</td>\n",
              "      <td>100000.000000</td>\n",
              "      <td>5.625000e+03</td>\n",
              "      <td>0.020000</td>\n",
              "      <td>1.125000e+02</td>\n",
              "    </tr>\n",
              "    <tr>\n",
              "      <th>75%</th>\n",
              "      <td>0.992500</td>\n",
              "      <td>200000.000000</td>\n",
              "      <td>1.358125e+05</td>\n",
              "      <td>0.032500</td>\n",
              "      <td>4.207500e+03</td>\n",
              "    </tr>\n",
              "    <tr>\n",
              "      <th>max</th>\n",
              "      <td>712.360000</td>\n",
              "      <td>500000.000000</td>\n",
              "      <td>1.424720e+08</td>\n",
              "      <td>0.040000</td>\n",
              "      <td>5.698880e+06</td>\n",
              "    </tr>\n",
              "  </tbody>\n",
              "</table>\n",
              "</div>"
            ],
            "text/plain": [
              "        Pst_Target  Penjualan_Target  ...  Tingkat_Komisi  Besaran_Komisi\n",
              "count  1000.000000       1000.000000  ...     1000.000000    1.000000e+03\n",
              "mean      0.789200     168900.000000  ...        0.025230    1.870579e+04\n",
              "std      36.569674     118804.058872  ...        0.008662    2.331504e+05\n",
              "min    -765.200000      75000.000000  ...        0.020000   -1.530400e+06\n",
              "25%      -1.060000      75000.000000  ...        0.020000   -2.945000e+03\n",
              "50%       0.055000     100000.000000  ...        0.020000    1.125000e+02\n",
              "75%       0.992500     200000.000000  ...        0.032500    4.207500e+03\n",
              "max     712.360000     500000.000000  ...        0.040000    5.698880e+06\n",
              "\n",
              "[8 rows x 5 columns]"
            ]
          },
          "metadata": {
            "tags": []
          },
          "execution_count": 97
        }
      ]
    },
    {
      "cell_type": "code",
      "metadata": {
        "colab": {
          "base_uri": "https://localhost:8080/"
        },
        "id": "0d87El6_Lxmv",
        "outputId": "8b50b680-0c07-4b20-d620-75f964fab8f2"
      },
      "source": [
        "df['Besaran_Komisi'].sum().round(1)"
      ],
      "execution_count": null,
      "outputs": [
        {
          "output_type": "execute_result",
          "data": {
            "text/plain": [
              "18705787.5"
            ]
          },
          "metadata": {
            "tags": []
          },
          "execution_count": 96
        }
      ]
    },
    {
      "cell_type": "code",
      "metadata": {
        "id": "Etcb0n48H6Js"
      },
      "source": [
        "# Menentukan daftar untuk menyimpan semua hasil dari setiap\n",
        "\n",
        "# simulasi yang ingin kita analisis\n",
        "all_stats = []\n",
        "\n",
        "# Pengulangan melalui banyak simulasi\n",
        "for i in range ( byk_simulasi ):\n",
        "  # Memilih input acak untuk target penjualan dan persentase\n",
        "  penjualan_target = np.random.choice ( penjualan_target_nilai ,byk_reps , p= penjualan_target_prob )\n",
        "  pst_target = np.random.standard_t(avg,byk_reps ). round (2)\n",
        "\n",
        "  # Membangun dataframe berdasarkan input dan banyak replikasi\n",
        "  df = pd.DataFrame ( index = range ( byk_reps ), data ={ 'Pst_Target':pst_target , 'Penjualan_Target': penjualan_target })\n",
        "  df ['Penjualan'] = df ['Pst_Target'] * df ['Penjualan_Target']\n",
        "\n",
        "  # Menentukan tingkat komisi dan menghitung besaran komisi\n",
        "  df ['Tingkat_Komisi'] = df ['Pst_Target'].apply ( hit_tingkat_komisi )\n",
        "  df ['Besaran_Komisi'] = df ['Tingkat_Komisi'] * df ['Penjualan']\n",
        "\n",
        "  # Menyimpan penjualan , besaran komisi , dan target penjualan di semua simulasi\n",
        "  all_stats . append ([ df ['Penjualan']. sum (). round (0) ,\n",
        "                       df ['Besaran_Komisi']. sum (). round (0) ,df ['Penjualan_Target']. sum (). round (0)])\n",
        "\n",
        "hasil_df = pd.DataFrame.from_records( all_stats,columns =['Penjualan','Besaran_Komisi','Penjualan_Target'])"
      ],
      "execution_count": null,
      "outputs": []
    },
    {
      "cell_type": "code",
      "metadata": {
        "colab": {
          "base_uri": "https://localhost:8080/",
          "height": 297
        },
        "id": "zRpDvAZ9JiS2",
        "outputId": "2ef79b4e-c031-423b-c64b-62711a62e023"
      },
      "source": [
        "hasil_df.describe()"
      ],
      "execution_count": null,
      "outputs": [
        {
          "output_type": "execute_result",
          "data": {
            "text/html": [
              "<div>\n",
              "<style scoped>\n",
              "    .dataframe tbody tr th:only-of-type {\n",
              "        vertical-align: middle;\n",
              "    }\n",
              "\n",
              "    .dataframe tbody tr th {\n",
              "        vertical-align: top;\n",
              "    }\n",
              "\n",
              "    .dataframe thead th {\n",
              "        text-align: right;\n",
              "    }\n",
              "</style>\n",
              "<table border=\"1\" class=\"dataframe\">\n",
              "  <thead>\n",
              "    <tr style=\"text-align: right;\">\n",
              "      <th></th>\n",
              "      <th>Penjualan</th>\n",
              "      <th>Besaran_Komisi</th>\n",
              "      <th>Penjualan_Target</th>\n",
              "    </tr>\n",
              "  </thead>\n",
              "  <tbody>\n",
              "    <tr>\n",
              "      <th>count</th>\n",
              "      <td>1.000000e+01</td>\n",
              "      <td>1.000000e+01</td>\n",
              "      <td>1.000000e+01</td>\n",
              "    </tr>\n",
              "    <tr>\n",
              "      <th>mean</th>\n",
              "      <td>-2.166041e+08</td>\n",
              "      <td>2.621918e+06</td>\n",
              "      <td>1.656300e+08</td>\n",
              "    </tr>\n",
              "    <tr>\n",
              "      <th>std</th>\n",
              "      <td>3.282759e+08</td>\n",
              "      <td>7.136837e+06</td>\n",
              "      <td>2.184885e+06</td>\n",
              "    </tr>\n",
              "    <tr>\n",
              "      <th>min</th>\n",
              "      <td>-9.736305e+08</td>\n",
              "      <td>-1.028888e+07</td>\n",
              "      <td>1.621250e+08</td>\n",
              "    </tr>\n",
              "    <tr>\n",
              "      <th>25%</th>\n",
              "      <td>-2.934892e+08</td>\n",
              "      <td>9.816245e+05</td>\n",
              "      <td>1.640688e+08</td>\n",
              "    </tr>\n",
              "    <tr>\n",
              "      <th>50%</th>\n",
              "      <td>-1.809090e+08</td>\n",
              "      <td>2.579375e+06</td>\n",
              "      <td>1.655000e+08</td>\n",
              "    </tr>\n",
              "    <tr>\n",
              "      <th>75%</th>\n",
              "      <td>-1.117959e+08</td>\n",
              "      <td>3.745294e+06</td>\n",
              "      <td>1.675250e+08</td>\n",
              "    </tr>\n",
              "    <tr>\n",
              "      <th>max</th>\n",
              "      <td>3.274448e+08</td>\n",
              "      <td>1.870579e+07</td>\n",
              "      <td>1.689000e+08</td>\n",
              "    </tr>\n",
              "  </tbody>\n",
              "</table>\n",
              "</div>"
            ],
            "text/plain": [
              "          Penjualan  Besaran_Komisi  Penjualan_Target\n",
              "count  1.000000e+01    1.000000e+01      1.000000e+01\n",
              "mean  -2.166041e+08    2.621918e+06      1.656300e+08\n",
              "std    3.282759e+08    7.136837e+06      2.184885e+06\n",
              "min   -9.736305e+08   -1.028888e+07      1.621250e+08\n",
              "25%   -2.934892e+08    9.816245e+05      1.640688e+08\n",
              "50%   -1.809090e+08    2.579375e+06      1.655000e+08\n",
              "75%   -1.117959e+08    3.745294e+06      1.675250e+08\n",
              "max    3.274448e+08    1.870579e+07      1.689000e+08"
            ]
          },
          "metadata": {
            "tags": []
          },
          "execution_count": 93
        }
      ]
    },
    {
      "cell_type": "code",
      "metadata": {
        "id": "rnYmIPCVJyTQ"
      },
      "source": [
        "komisi = hasil_df['Besaran_Komisi']\n",
        "target = hasil_df['Penjualan_Target']\n"
      ],
      "execution_count": null,
      "outputs": []
    },
    {
      "cell_type": "markdown",
      "metadata": {
        "id": "9A_P6pPpMKEO"
      },
      "source": [
        "###**Menampilkan plot**"
      ]
    },
    {
      "cell_type": "code",
      "metadata": {
        "colab": {
          "base_uri": "https://localhost:8080/",
          "height": 278
        },
        "id": "Lwd_QPbmKDMq",
        "outputId": "d5a28cac-c4d9-4e4b-a580-ebc417d5f208"
      },
      "source": [
        "plt.subplot(121)\n",
        "plt.hist(komisi,10,histtype='bar',facecolor='blue',alpha=0.5)\n",
        "plt.subplot(122)\n",
        "plt.hist(target,10,histtype='bar',facecolor='green',alpha=0.5)\n",
        "\n",
        "plt.show()"
      ],
      "execution_count": null,
      "outputs": [
        {
          "output_type": "display_data",
          "data": {
            "image/png": "[encoded data removed]",
            "text/plain": [
              "<Figure size 432x288 with 2 Axes>"
            ]
          },
          "metadata": {
            "tags": [],
            "needs_background": "light"
          }
        }
      ]
    },
    {
      "cell_type": "code",
      "metadata": {
        "id": "inXG_UrIK48W"
      },
      "source": [],
      "execution_count": null,
      "outputs": []
    }
  ]
}