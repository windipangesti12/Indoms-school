{
  "nbformat": 4,
  "nbformat_minor": 0,
  "metadata": {
    "colab": {
      "provenance": []
    },
    "kernelspec": {
      "name": "python3",
      "display_name": "Python 3"
    },
    "language_info": {
      "name": "python"
    }
  },
  "cells": [
    {
      "cell_type": "markdown",
      "metadata": {
        "id": "aVQ2YoajuuV6"
      },
      "source": [
        "##**simulasi MC**"
      ]
    },
    {
      "cell_type": "code",
      "metadata": {
        "id": "hnk7dQS0b4V1"
      },
      "source": [
        "import pandas as pd\n",
        "import numpy as np\n",
        "import matplotlib.pyplot as plt"
      ],
      "execution_count": null,
      "outputs": []
    },
    {
      "cell_type": "code",
      "metadata": {
        "id": "-ebjWl7DiBUi"
      },
      "source": [
        "avg = 1\n",
        "std_dev = .1\n",
        "byk_reps = 500\n",
        "byk_simulasi = 100000"
      ],
      "execution_count": null,
      "outputs": []
    },
    {
      "cell_type": "code",
      "metadata": {
        "colab": {
          "base_uri": "https://localhost:8080/"
        },
        "id": "KaYgkjF8iNwj",
        "outputId": "c83fdc1c-7a73-4703-c91c-7cd656dac3a1"
      },
      "source": [
        "np.random.seed(100)\n",
        "pst_target = np.random.normal(avg,std_dev,byk_reps).round(2)\n",
        "pst_target[0:5]"
      ],
      "execution_count": null,
      "outputs": [
        {
          "output_type": "execute_result",
          "data": {
            "text/plain": [
              "array([0.83, 1.03, 1.12, 0.97, 1.1 ])"
            ]
          },
          "metadata": {
            "tags": []
          },
          "execution_count": 41
        }
      ]
    },
    {
      "cell_type": "code",
      "metadata": {
        "colab": {
          "base_uri": "https://localhost:8080/"
        },
        "id": "fXH_ZLiQisT2",
        "outputId": "a800d0f4-a3e6-42c2-f231-5806a4388fec"
      },
      "source": [
        "penjualan_target_nilai = [75000, 100000,200000,300000,400000,500000]\n",
        "penjualan_target_prob = [.3, .3, .2 , .1, .05, .05]\n",
        "penjualan_target = np.random.choice(penjualan_target_nilai,byk_reps, p=penjualan_target_prob)\n",
        "penjualan_target[0:5]"
      ],
      "execution_count": null,
      "outputs": [
        {
          "output_type": "execute_result",
          "data": {
            "text/plain": [
              "array([200000, 100000, 100000, 300000, 100000])"
            ]
          },
          "metadata": {
            "tags": []
          },
          "execution_count": 42
        }
      ]
    },
    {
      "cell_type": "code",
      "metadata": {
        "colab": {
          "base_uri": "https://localhost:8080/",
          "height": 202
        },
        "id": "koFlshEmjpt5",
        "outputId": "baa983ac-6449-424b-f5c2-d1418a285393"
      },
      "source": [
        "df = pd.DataFrame(index=range(byk_reps), data ={'Penjualan_Target': penjualan_target,'Pst_Target': pst_target})\n",
        "df['Penjualan']=df['Pst_Target']*df['Penjualan_Target']\n",
        "df[0:5]"
      ],
      "execution_count": null,
      "outputs": [
        {
          "output_type": "execute_result",
          "data": {
            "text/html": [
              "<div>\n",
              "<style scoped>\n",
              "    .dataframe tbody tr th:only-of-type {\n",
              "        vertical-align: middle;\n",
              "    }\n",
              "\n",
              "    .dataframe tbody tr th {\n",
              "        vertical-align: top;\n",
              "    }\n",
              "\n",
              "    .dataframe thead th {\n",
              "        text-align: right;\n",
              "    }\n",
              "</style>\n",
              "<table border=\"1\" class=\"dataframe\">\n",
              "  <thead>\n",
              "    <tr style=\"text-align: right;\">\n",
              "      <th></th>\n",
              "      <th>Penjualan_Target</th>\n",
              "      <th>Pst_Target</th>\n",
              "      <th>Penjualan</th>\n",
              "    </tr>\n",
              "  </thead>\n",
              "  <tbody>\n",
              "    <tr>\n",
              "      <th>0</th>\n",
              "      <td>200000</td>\n",
              "      <td>0.83</td>\n",
              "      <td>166000.0</td>\n",
              "    </tr>\n",
              "    <tr>\n",
              "      <th>1</th>\n",
              "      <td>100000</td>\n",
              "      <td>1.03</td>\n",
              "      <td>103000.0</td>\n",
              "    </tr>\n",
              "    <tr>\n",
              "      <th>2</th>\n",
              "      <td>100000</td>\n",
              "      <td>1.12</td>\n",
              "      <td>112000.0</td>\n",
              "    </tr>\n",
              "    <tr>\n",
              "      <th>3</th>\n",
              "      <td>300000</td>\n",
              "      <td>0.97</td>\n",
              "      <td>291000.0</td>\n",
              "    </tr>\n",
              "    <tr>\n",
              "      <th>4</th>\n",
              "      <td>100000</td>\n",
              "      <td>1.10</td>\n",
              "      <td>110000.0</td>\n",
              "    </tr>\n",
              "  </tbody>\n",
              "</table>\n",
              "</div>"
            ],
            "text/plain": [
              "   Penjualan_Target  Pst_Target  Penjualan\n",
              "0            200000        0.83   166000.0\n",
              "1            100000        1.03   103000.0\n",
              "2            100000        1.12   112000.0\n",
              "3            300000        0.97   291000.0\n",
              "4            100000        1.10   110000.0"
            ]
          },
          "metadata": {
            "tags": []
          },
          "execution_count": 43
        }
      ]
    },
    {
      "cell_type": "code",
      "metadata": {
        "id": "TPB2wbNYky1Z"
      },
      "source": [
        "def hit_tingkat_komisi(x):\n",
        "  \"\"\"Acuan  tingkat komisi:\n",
        "  0-90% = 2 %\n",
        "  91-99% = 3%\n",
        "  >=100% = 4%\n",
        "  \"\"\"\n",
        "  if x<= .90:\n",
        "    return .02\n",
        "  if x<=.99:\n",
        "    return .03\n",
        "  else :\n",
        "    return .04"
      ],
      "execution_count": null,
      "outputs": []
    },
    {
      "cell_type": "code",
      "metadata": {
        "id": "NpMtxxsBmSvl"
      },
      "source": [
        "df['Tingkat_Komisi']=df['Pst_Target'].apply(hit_tingkat_komisi)\n",
        "df['Besaran_Komisi']=df['Tingkat_Komisi']*df['Penjualan']"
      ],
      "execution_count": null,
      "outputs": []
    },
    {
      "cell_type": "code",
      "metadata": {
        "colab": {
          "base_uri": "https://localhost:8080/",
          "height": 202
        },
        "id": "C8gCohxOmkhy",
        "outputId": "1d634773-ff1b-4696-d954-8d011bc3c37d"
      },
      "source": [
        "df[0:5]"
      ],
      "execution_count": null,
      "outputs": [
        {
          "output_type": "execute_result",
          "data": {
            "text/html": [
              "<div>\n",
              "<style scoped>\n",
              "    .dataframe tbody tr th:only-of-type {\n",
              "        vertical-align: middle;\n",
              "    }\n",
              "\n",
              "    .dataframe tbody tr th {\n",
              "        vertical-align: top;\n",
              "    }\n",
              "\n",
              "    .dataframe thead th {\n",
              "        text-align: right;\n",
              "    }\n",
              "</style>\n",
              "<table border=\"1\" class=\"dataframe\">\n",
              "  <thead>\n",
              "    <tr style=\"text-align: right;\">\n",
              "      <th></th>\n",
              "      <th>Penjualan_Target</th>\n",
              "      <th>Pst_Target</th>\n",
              "      <th>Penjualan</th>\n",
              "      <th>Tingkat_Komisi</th>\n",
              "      <th>Besaran_Komisi</th>\n",
              "    </tr>\n",
              "  </thead>\n",
              "  <tbody>\n",
              "    <tr>\n",
              "      <th>0</th>\n",
              "      <td>200000</td>\n",
              "      <td>0.83</td>\n",
              "      <td>166000.0</td>\n",
              "      <td>0.02</td>\n",
              "      <td>3320.0</td>\n",
              "    </tr>\n",
              "    <tr>\n",
              "      <th>1</th>\n",
              "      <td>100000</td>\n",
              "      <td>1.03</td>\n",
              "      <td>103000.0</td>\n",
              "      <td>0.04</td>\n",
              "      <td>4120.0</td>\n",
              "    </tr>\n",
              "    <tr>\n",
              "      <th>2</th>\n",
              "      <td>100000</td>\n",
              "      <td>1.12</td>\n",
              "      <td>112000.0</td>\n",
              "      <td>0.04</td>\n",
              "      <td>4480.0</td>\n",
              "    </tr>\n",
              "    <tr>\n",
              "      <th>3</th>\n",
              "      <td>300000</td>\n",
              "      <td>0.97</td>\n",
              "      <td>291000.0</td>\n",
              "      <td>0.03</td>\n",
              "      <td>8730.0</td>\n",
              "    </tr>\n",
              "    <tr>\n",
              "      <th>4</th>\n",
              "      <td>100000</td>\n",
              "      <td>1.10</td>\n",
              "      <td>110000.0</td>\n",
              "      <td>0.04</td>\n",
              "      <td>4400.0</td>\n",
              "    </tr>\n",
              "  </tbody>\n",
              "</table>\n",
              "</div>"
            ],
            "text/plain": [
              "   Penjualan_Target  Pst_Target  Penjualan  Tingkat_Komisi  Besaran_Komisi\n",
              "0            200000        0.83   166000.0            0.02          3320.0\n",
              "1            100000        1.03   103000.0            0.04          4120.0\n",
              "2            100000        1.12   112000.0            0.04          4480.0\n",
              "3            300000        0.97   291000.0            0.03          8730.0\n",
              "4            100000        1.10   110000.0            0.04          4400.0"
            ]
          },
          "metadata": {
            "tags": []
          },
          "execution_count": 46
        }
      ]
    },
    {
      "cell_type": "code",
      "metadata": {
        "colab": {
          "base_uri": "https://localhost:8080/",
          "height": 294
        },
        "id": "iszmU9szmmXY",
        "outputId": "a4ed392f-8aff-404e-baf2-a6f6f07a4281"
      },
      "source": [
        "df.describe()"
      ],
      "execution_count": null,
      "outputs": [
        {
          "output_type": "execute_result",
          "data": {
            "text/html": [
              "<div>\n",
              "<style scoped>\n",
              "    .dataframe tbody tr th:only-of-type {\n",
              "        vertical-align: middle;\n",
              "    }\n",
              "\n",
              "    .dataframe tbody tr th {\n",
              "        vertical-align: top;\n",
              "    }\n",
              "\n",
              "    .dataframe thead th {\n",
              "        text-align: right;\n",
              "    }\n",
              "</style>\n",
              "<table border=\"1\" class=\"dataframe\">\n",
              "  <thead>\n",
              "    <tr style=\"text-align: right;\">\n",
              "      <th></th>\n",
              "      <th>Penjualan_Target</th>\n",
              "      <th>Pst_Target</th>\n",
              "      <th>Penjualan</th>\n",
              "      <th>Tingkat_Komisi</th>\n",
              "      <th>Besaran_Komisi</th>\n",
              "    </tr>\n",
              "  </thead>\n",
              "  <tbody>\n",
              "    <tr>\n",
              "      <th>count</th>\n",
              "      <td>500.000000</td>\n",
              "      <td>500.000000</td>\n",
              "      <td>500.000000</td>\n",
              "      <td>500.000000</td>\n",
              "      <td>500.000000</td>\n",
              "    </tr>\n",
              "    <tr>\n",
              "      <th>mean</th>\n",
              "      <td>168400.000000</td>\n",
              "      <td>0.999380</td>\n",
              "      <td>168592.000000</td>\n",
              "      <td>0.033160</td>\n",
              "      <td>5713.490000</td>\n",
              "    </tr>\n",
              "    <tr>\n",
              "      <th>std</th>\n",
              "      <td>122234.703114</td>\n",
              "      <td>0.103222</td>\n",
              "      <td>124690.786028</td>\n",
              "      <td>0.007729</td>\n",
              "      <td>4737.675792</td>\n",
              "    </tr>\n",
              "    <tr>\n",
              "      <th>min</th>\n",
              "      <td>75000.000000</td>\n",
              "      <td>0.700000</td>\n",
              "      <td>52500.000000</td>\n",
              "      <td>0.020000</td>\n",
              "      <td>1050.000000</td>\n",
              "    </tr>\n",
              "    <tr>\n",
              "      <th>25%</th>\n",
              "      <td>75000.000000</td>\n",
              "      <td>0.937500</td>\n",
              "      <td>82312.500000</td>\n",
              "      <td>0.030000</td>\n",
              "      <td>2872.500000</td>\n",
              "    </tr>\n",
              "    <tr>\n",
              "      <th>50%</th>\n",
              "      <td>100000.000000</td>\n",
              "      <td>1.000000</td>\n",
              "      <td>103000.000000</td>\n",
              "      <td>0.040000</td>\n",
              "      <td>4040.000000</td>\n",
              "    </tr>\n",
              "    <tr>\n",
              "      <th>75%</th>\n",
              "      <td>200000.000000</td>\n",
              "      <td>1.070000</td>\n",
              "      <td>214500.000000</td>\n",
              "      <td>0.040000</td>\n",
              "      <td>8160.000000</td>\n",
              "    </tr>\n",
              "    <tr>\n",
              "      <th>max</th>\n",
              "      <td>500000.000000</td>\n",
              "      <td>1.350000</td>\n",
              "      <td>615000.000000</td>\n",
              "      <td>0.040000</td>\n",
              "      <td>24600.000000</td>\n",
              "    </tr>\n",
              "  </tbody>\n",
              "</table>\n",
              "</div>"
            ],
            "text/plain": [
              "       Penjualan_Target  Pst_Target  ...  Tingkat_Komisi  Besaran_Komisi\n",
              "count        500.000000  500.000000  ...      500.000000      500.000000\n",
              "mean      168400.000000    0.999380  ...        0.033160     5713.490000\n",
              "std       122234.703114    0.103222  ...        0.007729     4737.675792\n",
              "min        75000.000000    0.700000  ...        0.020000     1050.000000\n",
              "25%        75000.000000    0.937500  ...        0.030000     2872.500000\n",
              "50%       100000.000000    1.000000  ...        0.040000     4040.000000\n",
              "75%       200000.000000    1.070000  ...        0.040000     8160.000000\n",
              "max       500000.000000    1.350000  ...        0.040000    24600.000000\n",
              "\n",
              "[8 rows x 5 columns]"
            ]
          },
          "metadata": {
            "tags": []
          },
          "execution_count": 47
        }
      ]
    },
    {
      "cell_type": "code",
      "metadata": {
        "colab": {
          "base_uri": "https://localhost:8080/"
        },
        "id": "wMBE8Lo6m318",
        "outputId": "ef69fd5b-eb74-4542-f8ff-7c5862df9084"
      },
      "source": [
        "df['Besaran_Komisi'].sum().round(0)"
      ],
      "execution_count": null,
      "outputs": [
        {
          "output_type": "execute_result",
          "data": {
            "text/plain": [
              "2856745.0"
            ]
          },
          "metadata": {
            "tags": []
          },
          "execution_count": 48
        }
      ]
    },
    {
      "cell_type": "code",
      "metadata": {
        "id": "P9TV30wWnZaT"
      },
      "source": [
        "# mennetukan daftar untuk menyimpan semua hasil dari setiap simulasi yang ingin kita analisis\n",
        "all_stats=[]\n",
        "\n",
        "# pengulangan melalui banyak simulasi\n",
        "for i in range(byk_simulasi):\n",
        "\n",
        "   #memilih input acak untuk target penjualan dan persentase target\n",
        "   pst_target = np.random.normal(avg,std_dev,byk_reps).round(2)\n",
        "   penjualan_target = np.random.choice(penjualan_target_nilai,byk_reps,p=penjualan_target_prob)\n",
        "\n",
        "   #membangun dataframe berdasarkan input dan banyak replikasi\n",
        "   df = pd.DataFrame(index=range(byk_reps),data={'Pst_Target':pst_target,\n",
        "                                                 'Penjualan_Target':penjualan_target})\n",
        "\n",
        "   #menghitung banyaknya penjualan menggunakan persentase target\n",
        "   df['Penjualan']=df['Pst_Target']*df['Penjualan_Target']\n",
        "\n",
        "   #menentukan tingkat komisi dan menghitung besaran komisi\n",
        "   df['Tingkat_Komisi']=df['Pst_Target'].apply(hit_tingkat_komisi)\n",
        "   df['Besaran_Komisi']=df['Tingkat_Komisi']*df['Penjualan']\n",
        "\n",
        "   #menyimpan penjualan, besaran komisi, dan target penjualan di semua simulasi\n",
        "   all_stats.append([df['Penjualan'].sum().round(2),\n",
        "                     df['Besaran_Komisi'].sum().round(2),\n",
        "                     df['Penjualan_Target'].sum().round(2)])\n",
        ""
      ],
      "execution_count": null,
      "outputs": []
    },
    {
      "cell_type": "code",
      "metadata": {
        "id": "SI9TptbzpdNj"
      },
      "source": [
        "hasil_df = pd.DataFrame.from_records(all_stats,columns=['Penjualan','Besaran_Komisi','Penjualan_Target'])"
      ],
      "execution_count": null,
      "outputs": []
    },
    {
      "cell_type": "code",
      "metadata": {
        "colab": {
          "base_uri": "https://localhost:8080/",
          "height": 294
        },
        "id": "r114Zh0RqWvY",
        "outputId": "b965e4b7-3bd7-407f-c1e8-6c73a3c65d32"
      },
      "source": [
        "hasil_df.describe()"
      ],
      "execution_count": null,
      "outputs": [
        {
          "output_type": "execute_result",
          "data": {
            "text/html": [
              "<div>\n",
              "<style scoped>\n",
              "    .dataframe tbody tr th:only-of-type {\n",
              "        vertical-align: middle;\n",
              "    }\n",
              "\n",
              "    .dataframe tbody tr th {\n",
              "        vertical-align: top;\n",
              "    }\n",
              "\n",
              "    .dataframe thead th {\n",
              "        text-align: right;\n",
              "    }\n",
              "</style>\n",
              "<table border=\"1\" class=\"dataframe\">\n",
              "  <thead>\n",
              "    <tr style=\"text-align: right;\">\n",
              "      <th></th>\n",
              "      <th>Penjualan</th>\n",
              "      <th>Besaran_Komisi</th>\n",
              "      <th>Penjualan_Target</th>\n",
              "    </tr>\n",
              "  </thead>\n",
              "  <tbody>\n",
              "    <tr>\n",
              "      <th>count</th>\n",
              "      <td>1.000000e+05</td>\n",
              "      <td>1.000000e+05</td>\n",
              "      <td>1.000000e+05</td>\n",
              "    </tr>\n",
              "    <tr>\n",
              "      <th>mean</th>\n",
              "      <td>8.374605e+07</td>\n",
              "      <td>2.859190e+06</td>\n",
              "      <td>8.374680e+07</td>\n",
              "    </tr>\n",
              "    <tr>\n",
              "      <th>std</th>\n",
              "      <td>2.708576e+06</td>\n",
              "      <td>1.023757e+05</td>\n",
              "      <td>2.670810e+06</td>\n",
              "    </tr>\n",
              "    <tr>\n",
              "      <th>min</th>\n",
              "      <td>7.200575e+07</td>\n",
              "      <td>2.427425e+06</td>\n",
              "      <td>7.177500e+07</td>\n",
              "    </tr>\n",
              "    <tr>\n",
              "      <th>25%</th>\n",
              "      <td>8.190650e+07</td>\n",
              "      <td>2.789541e+06</td>\n",
              "      <td>8.192500e+07</td>\n",
              "    </tr>\n",
              "    <tr>\n",
              "      <th>50%</th>\n",
              "      <td>8.371225e+07</td>\n",
              "      <td>2.857744e+06</td>\n",
              "      <td>8.370000e+07</td>\n",
              "    </tr>\n",
              "    <tr>\n",
              "      <th>75%</th>\n",
              "      <td>8.554650e+07</td>\n",
              "      <td>2.927582e+06</td>\n",
              "      <td>8.552500e+07</td>\n",
              "    </tr>\n",
              "    <tr>\n",
              "      <th>max</th>\n",
              "      <td>9.615025e+07</td>\n",
              "      <td>3.322150e+06</td>\n",
              "      <td>9.635000e+07</td>\n",
              "    </tr>\n",
              "  </tbody>\n",
              "</table>\n",
              "</div>"
            ],
            "text/plain": [
              "          Penjualan  Besaran_Komisi  Penjualan_Target\n",
              "count  1.000000e+05    1.000000e+05      1.000000e+05\n",
              "mean   8.374605e+07    2.859190e+06      8.374680e+07\n",
              "std    2.708576e+06    1.023757e+05      2.670810e+06\n",
              "min    7.200575e+07    2.427425e+06      7.177500e+07\n",
              "25%    8.190650e+07    2.789541e+06      8.192500e+07\n",
              "50%    8.371225e+07    2.857744e+06      8.370000e+07\n",
              "75%    8.554650e+07    2.927582e+06      8.552500e+07\n",
              "max    9.615025e+07    3.322150e+06      9.635000e+07"
            ]
          },
          "metadata": {
            "tags": []
          },
          "execution_count": 51
        }
      ]
    },
    {
      "cell_type": "code",
      "metadata": {
        "colab": {
          "base_uri": "https://localhost:8080/",
          "height": 414
        },
        "id": "7SMbsiAMsFEu",
        "outputId": "0e5983a3-ebc4-4651-95b1-09de3edbf4f6"
      },
      "source": [
        "hasil_df"
      ],
      "execution_count": null,
      "outputs": [
        {
          "output_type": "execute_result",
          "data": {
            "text/html": [
              "<div>\n",
              "<style scoped>\n",
              "    .dataframe tbody tr th:only-of-type {\n",
              "        vertical-align: middle;\n",
              "    }\n",
              "\n",
              "    .dataframe tbody tr th {\n",
              "        vertical-align: top;\n",
              "    }\n",
              "\n",
              "    .dataframe thead th {\n",
              "        text-align: right;\n",
              "    }\n",
              "</style>\n",
              "<table border=\"1\" class=\"dataframe\">\n",
              "  <thead>\n",
              "    <tr style=\"text-align: right;\">\n",
              "      <th></th>\n",
              "      <th>Penjualan</th>\n",
              "      <th>Besaran_Komisi</th>\n",
              "      <th>Penjualan_Target</th>\n",
              "    </tr>\n",
              "  </thead>\n",
              "  <tbody>\n",
              "    <tr>\n",
              "      <th>0</th>\n",
              "      <td>81417750.0</td>\n",
              "      <td>2785550.0</td>\n",
              "      <td>81150000</td>\n",
              "    </tr>\n",
              "    <tr>\n",
              "      <th>1</th>\n",
              "      <td>87699750.0</td>\n",
              "      <td>3018595.0</td>\n",
              "      <td>87450000</td>\n",
              "    </tr>\n",
              "    <tr>\n",
              "      <th>2</th>\n",
              "      <td>85145750.0</td>\n",
              "      <td>2965705.0</td>\n",
              "      <td>84125000</td>\n",
              "    </tr>\n",
              "    <tr>\n",
              "      <th>3</th>\n",
              "      <td>83199000.0</td>\n",
              "      <td>2846360.0</td>\n",
              "      <td>83025000</td>\n",
              "    </tr>\n",
              "    <tr>\n",
              "      <th>4</th>\n",
              "      <td>82093500.0</td>\n",
              "      <td>2811050.0</td>\n",
              "      <td>81925000</td>\n",
              "    </tr>\n",
              "    <tr>\n",
              "      <th>...</th>\n",
              "      <td>...</td>\n",
              "      <td>...</td>\n",
              "      <td>...</td>\n",
              "    </tr>\n",
              "    <tr>\n",
              "      <th>99995</th>\n",
              "      <td>80559500.0</td>\n",
              "      <td>2712767.5</td>\n",
              "      <td>81075000</td>\n",
              "    </tr>\n",
              "    <tr>\n",
              "      <th>99996</th>\n",
              "      <td>85508500.0</td>\n",
              "      <td>2917537.5</td>\n",
              "      <td>85700000</td>\n",
              "    </tr>\n",
              "    <tr>\n",
              "      <th>99997</th>\n",
              "      <td>83626000.0</td>\n",
              "      <td>2822377.5</td>\n",
              "      <td>84000000</td>\n",
              "    </tr>\n",
              "    <tr>\n",
              "      <th>99998</th>\n",
              "      <td>87654500.0</td>\n",
              "      <td>2998015.0</td>\n",
              "      <td>87575000</td>\n",
              "    </tr>\n",
              "    <tr>\n",
              "      <th>99999</th>\n",
              "      <td>83383750.0</td>\n",
              "      <td>2867112.5</td>\n",
              "      <td>83225000</td>\n",
              "    </tr>\n",
              "  </tbody>\n",
              "</table>\n",
              "<p>100000 rows × 3 columns</p>\n",
              "</div>"
            ],
            "text/plain": [
              "        Penjualan  Besaran_Komisi  Penjualan_Target\n",
              "0      81417750.0       2785550.0          81150000\n",
              "1      87699750.0       3018595.0          87450000\n",
              "2      85145750.0       2965705.0          84125000\n",
              "3      83199000.0       2846360.0          83025000\n",
              "4      82093500.0       2811050.0          81925000\n",
              "...           ...             ...               ...\n",
              "99995  80559500.0       2712767.5          81075000\n",
              "99996  85508500.0       2917537.5          85700000\n",
              "99997  83626000.0       2822377.5          84000000\n",
              "99998  87654500.0       2998015.0          87575000\n",
              "99999  83383750.0       2867112.5          83225000\n",
              "\n",
              "[100000 rows x 3 columns]"
            ]
          },
          "metadata": {
            "tags": []
          },
          "execution_count": 52
        }
      ]
    },
    {
      "cell_type": "code",
      "metadata": {
        "id": "rt3qEvacsXWC"
      },
      "source": [
        "komisi=hasil_df['Besaran_Komisi']"
      ],
      "execution_count": null,
      "outputs": []
    },
    {
      "cell_type": "code",
      "metadata": {
        "colab": {
          "base_uri": "https://localhost:8080/",
          "height": 277
        },
        "id": "X_SHUkDEsgf8",
        "outputId": "b4b0e31b-72b9-4bd3-ac43-f6aac1d7d78d"
      },
      "source": [
        "plt.hist(komisi,10,histtype='bar',facecolor='b',alpha=0.75)\n",
        "plt.show()\n"
      ],
      "execution_count": null,
      "outputs": [
        {
          "output_type": "display_data",
          "data": {
            "image/png": "[encoded data removed]",
            "text/plain": [
              "<Figure size 432x288 with 1 Axes>"
            ]
          },
          "metadata": {
            "tags": [],
            "needs_background": "light"
          }
        }
      ]
    },
    {
      "cell_type": "code",
      "metadata": {
        "id": "zl66lbt4swUG"
      },
      "source": [],
      "execution_count": null,
      "outputs": []
    }
  ]
}